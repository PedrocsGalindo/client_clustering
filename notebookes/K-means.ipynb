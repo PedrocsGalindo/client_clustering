{
 "cells": [
  {
   "cell_type": "code",
   "execution_count": null,
   "id": "7e41aeab",
   "metadata": {},
   "outputs": [],
   "source": [
    "import pandas as pd\n",
    "import numpy as np\n",
    "from os import path\n",
    "from sklearn.cluster import KMeans\n",
    "from sklearn.metrics import silhouette_score, davies_bouldin_score, calinski_harabasz_score"
   ]
  },
  {
   "cell_type": "code",
   "execution_count": 15,
   "id": "a90342a1",
   "metadata": {},
   "outputs": [],
   "source": [
    "data_path = path.abspath(\"../data/processed_data/US_Superstore_data.xls\")\n",
    "data = pd.read_csv(data_path)"
   ]
  },
  {
   "cell_type": "code",
   "execution_count": 18,
   "id": "d0910860",
   "metadata": {},
   "outputs": [],
   "source": [
    "clustering = KMeans(n_clusters=2, random_state=5).fit(data)\n",
    "labels = clustering.labels_"
   ]
  },
  {
   "cell_type": "code",
   "execution_count": 19,
   "id": "5badb768",
   "metadata": {},
   "outputs": [
    {
     "name": "stdout",
     "output_type": "stream",
     "text": [
      "Silhouette Score: 0.34372868923113903\n",
      "Davies-Bouldin Index: 1.2387911396616644\n",
      "Calinski-Harabasz Score: 4840.337375201681\n"
     ]
    }
   ],
   "source": [
    "#entre 1 e -1\n",
    "score = silhouette_score(data, labels)\n",
    "print(\"Silhouette Score:\", score)\n",
    "\n",
    "#abaixo de 1.0 é bom\n",
    "score = davies_bouldin_score(data, labels)\n",
    "print(\"Davies-Bouldin Index:\", score)\n",
    "\n",
    "#quanto maior melhor\n",
    "score = calinski_harabasz_score(data, labels)\n",
    "print(\"Calinski-Harabasz Score:\", score)"
   ]
  }
 ],
 "metadata": {
  "kernelspec": {
   "display_name": "venv",
   "language": "python",
   "name": "python3"
  },
  "language_info": {
   "codemirror_mode": {
    "name": "ipython",
    "version": 3
   },
   "file_extension": ".py",
   "mimetype": "text/x-python",
   "name": "python",
   "nbconvert_exporter": "python",
   "pygments_lexer": "ipython3",
   "version": "3.12.4"
  }
 },
 "nbformat": 4,
 "nbformat_minor": 5
}
