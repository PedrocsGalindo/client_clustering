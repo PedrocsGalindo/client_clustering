{
 "cells": [
  {
   "cell_type": "code",
   "execution_count": null,
   "id": "82b41dd4",
   "metadata": {},
   "outputs": [],
   "source": [
    "import pandas as pd\n",
    "import numpy as np\n",
    "from os import path\n",
    "from sklearn.cluster import DBSCAN\n",
    "from sklearn.metrics import silhouette_score, davies_bouldin_score, calinski_harabasz_score"
   ]
  },
  {
   "cell_type": "code",
   "execution_count": 6,
   "id": "056c1b50",
   "metadata": {},
   "outputs": [],
   "source": [
    "data_path = path.abspath(\"../data/processed_data/US_Superstore_data.xls\")\n",
    "data = pd.read_csv(data_path)"
   ]
  },
  {
   "cell_type": "code",
   "execution_count": 16,
   "id": "ab109a7e",
   "metadata": {},
   "outputs": [],
   "source": [
    "clustering = DBSCAN(eps=10, min_samples=15).fit(data)\n",
    "labels = clustering.labels_"
   ]
  },
  {
   "cell_type": "code",
   "execution_count": 17,
   "id": "0a10fc1d",
   "metadata": {},
   "outputs": [
    {
     "name": "stdout",
     "output_type": "stream",
     "text": [
      "Silhouette Score: 0.8745363209612053\n",
      "Davies-Bouldin Index: 1.2583327770555468\n",
      "Calinski-Harabasz Score: 311.05183875346256\n"
     ]
    }
   ],
   "source": [
    "#entre 1 e -1\n",
    "score = silhouette_score(data, labels)\n",
    "print(\"Silhouette Score:\", score)\n",
    "\n",
    "#abaixo de 1.0 é bom\n",
    "score = davies_bouldin_score(data, labels)\n",
    "print(\"Davies-Bouldin Index:\", score)\n",
    "\n",
    "#quanto maior melhor\n",
    "score = calinski_harabasz_score(data, labels)\n",
    "print(\"Calinski-Harabasz Score:\", score)"
   ]
  }
 ],
 "metadata": {
  "kernelspec": {
   "display_name": "venv",
   "language": "python",
   "name": "python3"
  },
  "language_info": {
   "codemirror_mode": {
    "name": "ipython",
    "version": 3
   },
   "file_extension": ".py",
   "mimetype": "text/x-python",
   "name": "python",
   "nbconvert_exporter": "python",
   "pygments_lexer": "ipython3",
   "version": "3.12.4"
  }
 },
 "nbformat": 4,
 "nbformat_minor": 5
}
