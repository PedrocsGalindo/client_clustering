{
 "cells": [
  {
   "cell_type": "code",
   "execution_count": 1,
   "id": "2bf16f42",
   "metadata": {},
   "outputs": [],
   "source": [
    "import pandas as pd\n",
    "import numpy as np\n",
    "from os import path"
   ]
  },
  {
   "cell_type": "code",
   "execution_count": 19,
   "id": "499cfb96",
   "metadata": {},
   "outputs": [
    {
     "name": "stdout",
     "output_type": "stream",
     "text": [
      "(50000, 8)\n",
      "Transaction_ID      50000\n",
      "User_Name           50000\n",
      "Age                 50000\n",
      "Country             50000\n",
      "Product_Category    50000\n",
      "Purchase_Amount     50000\n",
      "Payment_Method      50000\n",
      "Transaction_Date    50000\n",
      "dtype: int64\n"
     ]
    }
   ],
   "source": [
    "data_path = path.abspath(\"../data/ecommerce_transactions.csv\")\n",
    "data = pd.read_csv(data_path)\n",
    "print(data.shape)\n",
    "print(data.count())"
   ]
  }
 ],
 "metadata": {
  "kernelspec": {
   "display_name": "venv",
   "language": "python",
   "name": "python3"
  },
  "language_info": {
   "codemirror_mode": {
    "name": "ipython",
    "version": 3
   },
   "file_extension": ".py",
   "mimetype": "text/x-python",
   "name": "python",
   "nbconvert_exporter": "python",
   "pygments_lexer": "ipython3",
   "version": "3.12.4"
  }
 },
 "nbformat": 4,
 "nbformat_minor": 5
}
